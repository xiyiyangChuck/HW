{
 "cells": [
  {
   "cell_type": "markdown",
   "id": "9e847506",
   "metadata": {},
   "source": [
    "Q1"
   ]
  },
  {
   "cell_type": "markdown",
   "id": "cd9cb46a",
   "metadata": {},
   "source": [
    "The standard deviation shows how spread out the individual data points are in the original dataset, indicating how much they tend to differ from the mean. On the other hand, the standard error of the mean (SEM) tells us how much the mean itself would vary if we took multiple samples from the population, giving a sense of how precise our sample mean is."
   ]
  },
  {
   "cell_type": "markdown",
   "id": "76627899",
   "metadata": {},
   "source": [
    "https://chatgpt.com/share/66fb83d4-e938-8006-996c-66025d1c51a6"
   ]
  },
  {
   "cell_type": "markdown",
   "id": "b4cc5c33",
   "metadata": {},
   "source": [
    "Q2"
   ]
  },
  {
   "cell_type": "markdown",
   "id": "e3574095",
   "metadata": {},
   "source": [
    "The confidence interval should be Mean ± 1.96 × SEM, where the mean is the mean of the sample data, 1.96 is the value corresponding to 0.975 (1-0.05/2) on CDF, and SEM is determined by SD/(n below the root)"
   ]
  },
  {
   "cell_type": "markdown",
   "id": "d6a16d35",
   "metadata": {},
   "source": [
    "https://chatgpt.com/share/66fb680b-98f0-8006-a458-b47e3ace0ee7"
   ]
  },
  {
   "cell_type": "markdown",
   "id": "30fe1053",
   "metadata": {},
   "source": [
    "Q3"
   ]
  },
  {
   "cell_type": "markdown",
   "id": "bdab100b",
   "metadata": {},
   "source": [
    "I can use the **percentile method**. First, take a lot of bootstrap samples from your original data, and calculate the mean for each one. Then, sort all those means. Next find the values at the 2.5th and 97.5th percentiles of the sorted means. Those values will be your lower and upper bounds for the interval. "
   ]
  },
  {
   "cell_type": "markdown",
   "id": "e18224ca",
   "metadata": {},
   "source": [
    "https://chatgpt.com/share/66fb680b-98f0-8006-a458-b47e3ace0ee7"
   ]
  },
  {
   "cell_type": "markdown",
   "id": "7418286b",
   "metadata": {},
   "source": [
    "Q4"
   ]
  },
  {
   "cell_type": "code",
   "execution_count": 1,
   "id": "1c10ef50",
   "metadata": {},
   "outputs": [
    {
     "name": "stdout",
     "output_type": "stream",
     "text": [
      "95% Confidence Interval for Population Mean: (5.8, 8.2)\n",
      "95% Confidence Interval for Population Median: (5.0, 9.0)\n"
     ]
    }
   ],
   "source": [
    "import numpy as np\n",
    "\n",
    "# Function to calculate bootstrap confidence interval\n",
    "def bootstrap_ci(data, n_bootstraps=1000, ci=0.95, parameter='mean'):\n",
    "    \"\"\"\n",
    "    Calculate the bootstrap confidence interval for a given parameter.\n",
    "    \n",
    "    Parameters:\n",
    "    - data: array-like, the original sample data\n",
    "    - n_bootstraps: int, number of bootstrap samples to generate\n",
    "    - ci: float, confidence level (default 0.95 for 95% CI)\n",
    "    - parameter: str, 'mean' for population mean, 'median' for population median, etc.\n",
    "\n",
    "    Returns:\n",
    "    - lower_bound: float, the lower bound of the confidence interval\n",
    "    - upper_bound: float, the upper bound of the confidence interval\n",
    "    \"\"\"\n",
    "\n",
    "    # Step 1: Initialize an array to hold bootstrap sample estimates\n",
    "    bootstrap_samples = np.empty(n_bootstraps)\n",
    "\n",
    "    # Step 2: Generate bootstrap samples and compute the specified parameter\n",
    "    for i in range(n_bootstraps):\n",
    "        # Generate a bootstrap sample\n",
    "        sample = np.random.choice(data, size=len(data), replace=True)\n",
    "        \n",
    "        # Compute the desired statistic based on the parameter\n",
    "        if parameter == 'mean':\n",
    "            bootstrap_samples[i] = np.mean(sample)\n",
    "        elif parameter == 'median':\n",
    "            bootstrap_samples[i] = np.median(sample)\n",
    "        else:\n",
    "            raise ValueError(\"Parameter not recognized. Use 'mean' or 'median'.\")\n",
    "\n",
    "    # Step 3: Calculate the lower and upper percentiles for the CI\n",
    "    lower_bound = np.percentile(bootstrap_samples, (1 - ci) / 2 * 100)\n",
    "    upper_bound = np.percentile(bootstrap_samples, (1 + ci) / 2 * 100)\n",
    "\n",
    "    return lower_bound, upper_bound\n",
    "\n",
    "# Example usage\n",
    "data = np.array([5, 7, 8, 6, 9])  # Original sample data\n",
    "\n",
    "# Calculate 95% CI for the population mean\n",
    "mean_ci = bootstrap_ci(data, parameter='mean')\n",
    "print(f\"95% Confidence Interval for Population Mean: {mean_ci}\")\n",
    "\n",
    "# Calculate 95% CI for the population median\n",
    "median_ci = bootstrap_ci(data, parameter='median')\n",
    "print(f\"95% Confidence Interval for Population Median: {median_ci}\")\n"
   ]
  },
  {
   "cell_type": "markdown",
   "id": "f51622d5",
   "metadata": {},
   "source": [
    "Here's a concise summary of the Python code to create a 95% bootstrap confidence interval for a population mean, along with how to modify it for other parameters:\n",
    "\n",
    "### Summary\n",
    "\n",
    "1. **Function Definition**:\n",
    "   - The `bootstrap_ci` function computes a bootstrap confidence interval for a specified population parameter (mean, median, etc.) from the original dataset.\n",
    "\n",
    "2. **Parameters**:\n",
    "   - **`data`**: Original sample data (array-like).\n",
    "   - **`n_bootstraps`**: Number of bootstrap samples to generate (default is 1,000).\n",
    "   - **`ci`**: Confidence level (default is 0.95 for a 95% CI).\n",
    "   - **`parameter`**: String specifying which statistic to calculate ('mean' or 'median').\n",
    "\n",
    "3. **Generating Bootstrap Samples**:\n",
    "   - The function generates bootstrap samples by sampling with replacement and calculates the specified parameter (mean or median) for each sample.\n",
    "\n",
    "4. **Calculating Confidence Intervals**:\n",
    "   - It calculates the lower and upper bounds of the confidence interval using the appropriate percentiles from the distribution of bootstrap sample statistics.\n",
    "\n",
    "5. **Usage Examples**:\n",
    "   - **For Population Mean**: \n",
    "     ```python\n",
    "     mean_ci = bootstrap_ci(data, parameter='mean')\n",
    "     ```\n",
    "   - **For Population Median**:\n",
    "     ```python\n",
    "     median_ci = bootstrap_ci(data, parameter='median')\n",
    "     ```\n",
    "\n",
    "### Code Structure\n",
    "- You can extend the function to calculate other statistics by modifying the conditional checks for `parameter`, allowing for flexible analysis beyond just means and medians. \n",
    "\n",
    "This approach provides a robust method for estimating confidence intervals using bootstrap methods in Python."
   ]
  },
  {
   "cell_type": "markdown",
   "id": "3eb72d7c",
   "metadata": {},
   "source": [
    "https://chatgpt.com/share/66fb680b-98f0-8006-a458-b47e3ace0ee7"
   ]
  },
  {
   "cell_type": "markdown",
   "id": "fa625f8b",
   "metadata": {},
   "source": [
    "Q5"
   ]
  },
  {
   "cell_type": "markdown",
   "id": "78336c1f",
   "metadata": {},
   "source": [
    "The population parameter is the true value we want to know, but it's often unknown because we can’t measure the whole population. The sample statistic, on the other hand, is what we calculate from our sample data and use to estimate the population parameter."
   ]
  },
  {
   "cell_type": "markdown",
   "id": "4438c9ff",
   "metadata": {},
   "source": [
    "https://chatgpt.com/share/66fb680b-98f0-8006-a458-b47e3ace0ee7"
   ]
  },
  {
   "cell_type": "markdown",
   "id": "c3cb9fda",
   "metadata": {},
   "source": [
    "Q6"
   ]
  },
  {
   "cell_type": "markdown",
   "id": "470070f5",
   "metadata": {},
   "source": [
    "1.What is the process of bootstrapping?\n",
    "\n",
    "Bootstrap is like taking a sample and creating multiple 'new bags' from it. You can randomly select and replace the original sample, which means you can choose the same item multiple times. Repeat multiple times to obtain different datasets, and then calculate the statistical data (such as the average) for each group."
   ]
  },
  {
   "cell_type": "markdown",
   "id": "9f071997",
   "metadata": {},
   "source": [
    "2.What is the main purpose of bootstrapping?\n",
    "\n",
    "The main purpose of bootstrap is to estimate the reliability of sample statistics and understand the uncertainty surrounding them. It helps us create confidence intervals that display the range in which we believe the true population values are located."
   ]
  },
  {
   "cell_type": "markdown",
   "id": "a4a3739e",
   "metadata": {},
   "source": [
    "3.If you had a (hypothesized) guess about what the average of a population was, and you had a sample of size n from that population, how could you use bootstrapping to assess whether or not your (hypothesized) guess might be plausible?\n",
    "\n",
    "If you guess the average weight is 5 grams, you can use bootstrap to create many averages from your sample. Then, you check how many of these averages are close to 5 grams. If most of them are close to your guess, it indicates that your guess is reasonable; If not, this may not be very reasonable."
   ]
  },
  {
   "cell_type": "markdown",
   "id": "772fb916",
   "metadata": {},
   "source": [
    "https://chatgpt.com/share/66fb680b-98f0-8006-a458-b47e3ace0ee7"
   ]
  },
  {
   "cell_type": "markdown",
   "id": "c2df2873",
   "metadata": {},
   "source": [
    "Q7"
   ]
  },
  {
   "cell_type": "markdown",
   "id": "de8f3e96",
   "metadata": {},
   "source": [
    "When the confidence interval contains zero, it means that zero is a possible value for the true effect, indicating that the drug may not have any effect at all. Even if the observed sample mean is not zero, the interval indicates that our estimated uncertainty is large enough to rule out the possibility of zero, and we do not have enough evidence to confidently say that this drug is working.\n"
   ]
  },
  {
   "cell_type": "markdown",
   "id": "e814b55b",
   "metadata": {},
   "source": [
    "If the confidence interval does not include zero, it means we have more confidence that the true effect is not zero. In this case, we can reject the null hypothesis."
   ]
  },
  {
   "cell_type": "markdown",
   "id": "0095170d",
   "metadata": {},
   "source": [
    "Q8"
   ]
  },
  {
   "cell_type": "code",
   "execution_count": 1,
   "id": "f8600020",
   "metadata": {},
   "outputs": [],
   "source": [
    "import pandas as pd\n",
    "\n",
    "# Data\n",
    "data = {\n",
    "    'PatientID': [1, 2, 3, 4, 5, 6, 7, 8, 9, 10],\n",
    "    'Age': [45, 34, 29, 52, 37, 41, 33, 48, 26, 39],\n",
    "    'Gender': ['M', 'F', 'M', 'F', 'M', 'F', 'M', 'F', 'M', 'F'],\n",
    "    'InitialHealthScore': [84, 78, 83, 81, 81, 80, 79, 85, 76, 83],\n",
    "    'FinalHealthScore': [86, 86, 80, 86, 84, 86, 86, 82, 83, 84]\n",
    "}\n",
    "\n",
    "# Create DataFrame\n",
    "df = pd.DataFrame(data)\n",
    "\n",
    "# Save to CSV\n",
    "df.to_csv('patient_data.csv', index=False)\n"
   ]
  },
  {
   "cell_type": "code",
   "execution_count": 3,
   "id": "57e30a20",
   "metadata": {},
   "outputs": [
    {
     "name": "stdout",
     "output_type": "stream",
     "text": [
      "Bootstrap Mean Estimate for Score Difference: 3.31\n",
      "95% Confidence Interval: (0.70, 5.50)\n"
     ]
    }
   ],
   "source": [
    "import pandas as pd\n",
    "import numpy as np\n",
    "\n",
    "# Set seed for reproducibility\n",
    "np.random.seed(42)\n",
    "\n",
    "# Read the CSV file\n",
    "data = pd.read_csv('patient_data.csv')\n",
    "\n",
    "# Calculate the difference between Final and Initial Health Scores\n",
    "data['ScoreDifference'] = data['FinalHealthScore'] - data['InitialHealthScore']\n",
    "\n",
    "# Bootstrapping function\n",
    "def bootstrap(data, n_iterations=1000):\n",
    "    samples = []\n",
    "    for _ in range(n_iterations):\n",
    "        sample = np.random.choice(data['ScoreDifference'], size=len(data), replace=True)\n",
    "        samples.append(np.mean(sample))  # Change to np.median or other statistics as needed\n",
    "    return np.array(samples)\n",
    "\n",
    "# Perform bootstrapping on the score differences\n",
    "bootstrap_samples = bootstrap(data)\n",
    "\n",
    "# Calculate statistics\n",
    "mean_estimate = np.mean(bootstrap_samples)\n",
    "lower_bound = np.percentile(bootstrap_samples, 2.5)\n",
    "upper_bound = np.percentile(bootstrap_samples, 97.5)\n",
    "\n",
    "# Print results\n",
    "print(f'Bootstrap Mean Estimate for Score Difference: {mean_estimate:.2f}')\n",
    "print(f'95% Confidence Interval: ({lower_bound:.2f}, {upper_bound:.2f})')\n"
   ]
  },
  {
   "cell_type": "markdown",
   "id": "7aa0de2b",
   "metadata": {},
   "source": [
    "The 95% confidence interval does not include cases where the health score difference is 0, which means we have sufficient evidence to reject H0, i.e. the drug is ineffective. So my conclusion is that the medicine is effective"
   ]
  },
  {
   "cell_type": "markdown",
   "id": "4993996b",
   "metadata": {},
   "source": [
    "https://chatgpt.com/share/66fc8eb5-9510-8006-97d8-d1db82602601"
   ]
  },
  {
   "cell_type": "markdown",
   "id": "b15bbccc",
   "metadata": {},
   "source": [
    "Q9"
   ]
  },
  {
   "cell_type": "markdown",
   "id": "ed57eebf",
   "metadata": {},
   "source": [
    "Yes"
   ]
  }
 ],
 "metadata": {
  "kernelspec": {
   "display_name": "Python 3 (ipykernel)",
   "language": "python",
   "name": "python3"
  },
  "language_info": {
   "codemirror_mode": {
    "name": "ipython",
    "version": 3
   },
   "file_extension": ".py",
   "mimetype": "text/x-python",
   "name": "python",
   "nbconvert_exporter": "python",
   "pygments_lexer": "ipython3",
   "version": "3.11.6"
  }
 },
 "nbformat": 4,
 "nbformat_minor": 5
}
