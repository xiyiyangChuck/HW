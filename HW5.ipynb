{
 "cells": [
  {
   "cell_type": "markdown",
   "id": "6551e4c4",
   "metadata": {},
   "source": [
    "Q1"
   ]
  },
  {
   "cell_type": "markdown",
   "id": "7a65e72c",
   "metadata": {},
   "source": [
    "A hypothesis is a testable idea that you can evaluate with data. The key factor that makes an idea testable is whether it can be measured or quantified. For example, saying \"apples are expensive\" isn't testable, but \"apples cost more than $1.75 per pound\" is because it has a clear value. A good null hypothesis is one that's specific, measurable, and represents no effect or no difference, like \"the average salary is $50,000.\" The null hypothesis assumes no change, while the alternative hypothesis suggests a difference or effect that you're trying to prove."
   ]
  },
  {
   "cell_type": "markdown",
   "id": "e685317f",
   "metadata": {},
   "source": [
    "https://chatgpt.com/share/6702d2fe-0a04-8006-b7f8-8f146b8b13d8"
   ]
  },
  {
   "cell_type": "markdown",
   "id": "d4602b08",
   "metadata": {},
   "source": [
    "Q2"
   ]
  },
  {
   "cell_type": "markdown",
   "id": "b0610978",
   "metadata": {},
   "source": [
    "When we conduct hypothesis testing, we are not just testing the sample itself, but using the sample data to draw conclusions about the entire population. Sample statistics provide us with an estimate, but hypothesis testing aims to tell us some information about population parameters\n",
    "\n",
    "Hypothesis Testing: A statistical method used to make decisions about the population based on sample data.\n",
    "\n",
    "Sample: A subset of the population selected for analysis. \n",
    "\n",
    "Population: The entire set of individuals or observations that we are interested in studying. \n",
    "\n",
    "Sample Statistics: These are numerical values such as mean, variance, or standard deviation，which could be calculated from the sample data.\n",
    "\n",
    "Population Parameters: These are the true values that describe the entire population."
   ]
  },
  {
   "cell_type": "markdown",
   "id": "9e462af5",
   "metadata": {},
   "source": [
    "https://chatgpt.com/share/6702d2fe-0a04-8006-b7f8-8f146b8b13d8"
   ]
  },
  {
   "cell_type": "markdown",
   "id": "27bc2ec1",
   "metadata": {},
   "source": [
    "Q3"
   ]
  },
  {
   "cell_type": "markdown",
   "id": "55974361",
   "metadata": {},
   "source": [
    "\n",
    "When we calculate a p-value, we start by pretending the null hypothesis is true because it gives us a way to measure how surprising our results are. We ask, \"If the null hypothesis is right, how likely is it that we’d get the data we have?\" If what we observe is very unlikely in this situation (a small p-value), it suggests that maybe the null hypothesis isn’t true. But if the data seems pretty normal under the null hypothesis (a large p-value), we don't have enough reason to reject it.So, we assume the null hypothesis is true to see if the data gives us a good reason to doubt it."
   ]
  },
  {
   "cell_type": "markdown",
   "id": "8637cb4e",
   "metadata": {},
   "source": [
    "https://chatgpt.com/share/6702fe8d-ca2c-8006-9a2f-c406dceccff8"
   ]
  },
  {
   "cell_type": "markdown",
   "id": "f27b1dde",
   "metadata": {},
   "source": [
    "Q4"
   ]
  },
  {
   "cell_type": "markdown",
   "id": "d0c664de",
   "metadata": {},
   "source": [
    "A smaller p-value makes the null hypothesis look more ridiculous because it means the data we observed is highly unlikely if the null hypothesis were true. In simple terms, the smaller the p-value, the more \"weird\" or \"extreme\" the evidence is under the assumption that the null is correct. This makes us doubt that assumption and consider rejecting it, since such unlikely results don't fit well with what we'd expect if the null hypothesis were actually true. So, a tiny p-value is a red flag that the null might not hold up!"
   ]
  },
  {
   "cell_type": "markdown",
   "id": "354168f9",
   "metadata": {},
   "source": [
    "https://chatgpt.com/share/6702fe8d-ca2c-8006-9a2f-c406dceccff8"
   ]
  },
  {
   "cell_type": "markdown",
   "id": "6e0dbbdc",
   "metadata": {},
   "source": [
    "Q5"
   ]
  },
  {
   "cell_type": "code",
   "execution_count": 1,
   "id": "1f6f5287",
   "metadata": {},
   "outputs": [
    {
     "data": {
      "text/plain": [
       "0.001"
      ]
     },
     "execution_count": 1,
     "metadata": {},
     "output_type": "execute_result"
    }
   ],
   "source": [
    "import numpy as np\n",
    "\n",
    "# Set random seed for reproducibility\n",
    "np.random.seed(42)\n",
    "\n",
    "# Number of simulations\n",
    "n_simulations = 10000\n",
    "\n",
    "# Total number of couples and observed number of couples tilting right\n",
    "n_couples = 124\n",
    "observed_right_tilt = 80\n",
    "\n",
    "# Simulate the right tilts: for each simulation, 124 couples tilt right with a 50% probability\n",
    "simulated_right_tilts = np.random.binomial(n=n_couples, p=0.5, size=n_simulations)\n",
    "\n",
    "# Calculate p-value: proportion of simulations where right tilts >= 80\n",
    "p_value = np.mean(simulated_right_tilts >= observed_right_tilt)\n",
    "\n",
    "# Output the p-value\n",
    "p_value\n"
   ]
  },
  {
   "cell_type": "markdown",
   "id": "8d94cd5e",
   "metadata": {},
   "source": [
    "We have trong evidence against the null hypothesis."
   ]
  },
  {
   "cell_type": "markdown",
   "id": "796984a4",
   "metadata": {},
   "source": [
    "https://chatgpt.com/share/6702fc3f-728c-8006-92f8-cbcc0aed3fcd"
   ]
  },
  {
   "cell_type": "markdown",
   "id": "6e99be8e",
   "metadata": {},
   "source": [
    "Q6"
   ]
  },
  {
   "cell_type": "markdown",
   "id": "aac71568",
   "metadata": {},
   "source": [
    "No, a smaller p-value cannot definitively prove that the null hypothesis (H₀) is false, nor can it definitively prove guilt or innocence. A high p-value suggests that the evidence is consistent with Fido being innocent, but it doesn’t *prove* his innocence. The data might simply lack enough evidence to reject H₀.A low p-value suggests that Fido's innocence is unlikely, but it doesn’t *prove* he’s guilty. There’s always a chance that the observed data is due to random chance. Hypothesis testing always involves some uncertainty."
   ]
  },
  {
   "cell_type": "markdown",
   "id": "f519a12e",
   "metadata": {},
   "source": [
    "https://chatgpt.com/share/6702fe8d-ca2c-8006-9a2f-c406dceccff8"
   ]
  },
  {
   "cell_type": "markdown",
   "id": "a0879441",
   "metadata": {},
   "source": [
    "Q7"
   ]
  },
  {
   "cell_type": "code",
   "execution_count": 7,
   "id": "63e28758",
   "metadata": {},
   "outputs": [
    {
     "name": "stdout",
     "output_type": "stream",
     "text": [
      "One-sided (Right-tailed) p-value: 0.042\n"
     ]
    }
   ],
   "source": [
    "import pandas as pd\n",
    "import numpy as np\n",
    "\n",
    "# Step 1: Create the DataFrame with the provided data\n",
    "data = {\n",
    "    \"PatientID\": [1, 2, 3, 4, 5, 6, 7, 8, 9, 10],\n",
    "    \"Age\": [45, 34, 29, 52, 37, 41, 33, 48, 26, 39],\n",
    "    \"Gender\": ['M', 'F', 'M', 'F', 'M', 'F', 'M', 'F', 'M', 'F'],\n",
    "    \"InitialHealthScore\": [84, 78, 83, 81, 81, 80, 79, 85, 76, 83],\n",
    "    \"FinalHealthScore\": [86, 86, 80, 86, 84, 86, 86, 82, 83, 84]\n",
    "}\n",
    "\n",
    "patient_data = pd.DataFrame(data)\n",
    "\n",
    "# Step 2: Calculate Health Score Change\n",
    "patient_data['HealthScoreChange'] = patient_data['FinalHealthScore'] - patient_data['InitialHealthScore']\n",
    "\n",
    "# Step 3: Observed test statistic (proportion of patients with positive HealthScoreChange)\n",
    "observed_test_statistic = (patient_data.HealthScoreChange > 0).mean()\n",
    "\n",
    "# Step 4: Simulate statistics under H0 (null hypothesis: no difference, i.e., HealthScoreChange is 0)\n",
    "np.random.seed(42)  # For reproducibility\n",
    "number_of_simulations = 1000\n",
    "simulated_test_statistics = np.random.choice([0, 1], size=(number_of_simulations, len(patient_data)), \n",
    "                                             p=[0.5, 0.5]).mean(axis=1)\n",
    "\n",
    "# Step 5: Perform one-sided test\n",
    "# Right-tailed test: testing if the observed statistic is greater than the null hypothesis\n",
    "SimTestStats_greater_than_ObsTestStat = simulated_test_statistics >= observed_test_statistic\n",
    "\n",
    "# Step 6: Calculate p-value for the right-tailed test\n",
    "p_value_right_side = (SimTestStats_greater_than_ObsTestStat).sum() / number_of_simulations\n",
    "\n",
    "print(\"One-sided (Right-tailed) p-value:\", p_value_right_side)\n"
   ]
  },
  {
   "cell_type": "markdown",
   "id": "f9804e5d",
   "metadata": {},
   "source": [
    "Two-sided (Right-tailed) p-value: 0.048"
   ]
  },
  {
   "cell_type": "markdown",
   "id": "f7a0bab1",
   "metadata": {},
   "source": [
    "Yes, we generally expect the p-value to be smaller in a one-tailed test compared to a two-tailed test,"
   ]
  },
  {
   "cell_type": "markdown",
   "id": "a724c0ed",
   "metadata": {},
   "source": [
    "https://chatgpt.com/share/67030559-bff4-8006-9c5c-0d40feba4db5"
   ]
  },
  {
   "cell_type": "markdown",
   "id": "5ef84ef3",
   "metadata": {},
   "source": [
    "Q8"
   ]
  },
  {
   "cell_type": "markdown",
   "id": "453a6ee0",
   "metadata": {},
   "source": [
    "Statements of the Null Hypothesis and Alternative Hypothesis\n",
    "Null Hypothesis (H₀): The students are simply guessing, and the proportion of correct identifications is equal to 0.5 (i.e., no ability to distinguish between the pouring order).\n",
    "\n",
    "Formal Version:\n",
    "\n",
    "𝐻0:p=0.5\n",
    "Where p is the true proportion of correct guesses.\n",
    "\n",
    "Informal Interpretive Statement: The students do not have any real ability to distinguish the order of pouring (milk or tea first), and any correct answers are due to random guessing.\n",
    "\n",
    "Alternative Hypothesis (H₁): The students have some ability to correctly identify the order of pouring, with the proportion of correct identifications being greater than 0.5.\n",
    "\n",
    "Formal Version:\n",
    "\n",
    "𝐻1:p>0.5\n",
    "Where p is the true proportion of correct guesses.\n",
    "\n",
    "Informal Interpretive Statement: The students have some ability to correctly distinguish between milk or tea being poured first."
   ]
  },
  {
   "cell_type": "markdown",
   "id": "234779b5",
   "metadata": {},
   "source": [
    "Quantitative Analysis\n",
    "Methodology\n",
    "We will use a hypothesis test for proportions. The test statistic will be based on the sample proportion of correct answers, which is:\n",
    "\n",
    "p^=0.6125\n",
    "\n",
    "We will compare this to the expected proportion under the null hypothesis, p=0.5. We can calculate the standard error (SE) for the proportion under the null hypothesis:\n",
    "\n",
    "SE = 0.0559\n",
    "\n",
    "Next, we calculate the z-score, which measures how far the observed proportion is from the null hypothesis:\n",
    "\n",
    "z = 2.02\n",
    "\n",
    "We will now calculate the p-value associated with this z-score using a one-tailed test, as the alternative hypothesis is that the proportion is greater than 0.5."
   ]
  },
  {
   "cell_type": "code",
   "execution_count": 8,
   "id": "0ab5dba5",
   "metadata": {},
   "outputs": [
    {
     "data": {
      "text/plain": [
       "(2.0124611797498115, 0.022085672454221217)"
      ]
     },
     "execution_count": 8,
     "metadata": {},
     "output_type": "execute_result"
    }
   ],
   "source": [
    "import numpy as np\n",
    "from scipy import stats\n",
    "\n",
    "# Ensure reproducibility\n",
    "np.random.seed(42)\n",
    "\n",
    "# Observed proportion of correct identifications\n",
    "p_hat = 49 / 80\n",
    "\n",
    "# Null hypothesis proportion\n",
    "p_null = 0.5\n",
    "\n",
    "# Sample size\n",
    "n = 80\n",
    "\n",
    "# Standard error under the null hypothesis\n",
    "se = np.sqrt(p_null * (1 - p_null) / n)\n",
    "\n",
    "# Z-score calculation\n",
    "z_score = (p_hat - p_null) / se\n",
    "\n",
    "# P-value calculation (one-tailed)\n",
    "p_value = 1 - stats.norm.cdf(z_score)\n",
    "\n",
    "z_score, p_value\n"
   ]
  },
  {
   "cell_type": "code",
   "execution_count": 9,
   "id": "6dabda90",
   "metadata": {},
   "outputs": [
    {
     "data": {
      "text/plain": [
       "(0.5029326691025103, 0.7220673308974898)"
      ]
     },
     "execution_count": 9,
     "metadata": {},
     "output_type": "execute_result"
    }
   ],
   "source": [
    "# Confidence interval calculation\n",
    "z_critical = 1.96  # For 95% confidence\n",
    "margin_of_error = z_critical * se\n",
    "\n",
    "ci_lower = p_hat - margin_of_error\n",
    "ci_upper = p_hat + margin_of_error\n",
    "\n",
    "(ci_lower, ci_upper)\n"
   ]
  },
  {
   "cell_type": "markdown",
   "id": "d6fb545e",
   "metadata": {},
   "source": [
    "ased on the statistical analysis, the p-value is 0.0217, which is below the common significance threshold of 0.05. Therefore, we reject the null hypothesis. This suggests that it is unlikely that the students were simply guessing. "
   ]
  },
  {
   "cell_type": "markdown",
   "id": "7a19f6a2",
   "metadata": {},
   "source": [
    "https://chatgpt.com/share/67030912-eb78-8006-94ad-f4b04fdd33a8"
   ]
  },
  {
   "cell_type": "markdown",
   "id": "5af43bef",
   "metadata": {},
   "source": [
    "Q9"
   ]
  },
  {
   "cell_type": "markdown",
   "id": "18c164cc",
   "metadata": {},
   "source": [
    "yes"
   ]
  }
 ],
 "metadata": {
  "kernelspec": {
   "display_name": "Python 3 (ipykernel)",
   "language": "python",
   "name": "python3"
  },
  "language_info": {
   "codemirror_mode": {
    "name": "ipython",
    "version": 3
   },
   "file_extension": ".py",
   "mimetype": "text/x-python",
   "name": "python",
   "nbconvert_exporter": "python",
   "pygments_lexer": "ipython3",
   "version": "3.11.6"
  }
 },
 "nbformat": 4,
 "nbformat_minor": 5
}
