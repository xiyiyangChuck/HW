{
 "cells": [
  {
   "cell_type": "markdown",
   "id": "c7545153",
   "metadata": {},
   "source": [
    "pre HW\n"
   ]
  },
  {
   "cell_type": "markdown",
   "id": "7ac6c535",
   "metadata": {},
   "source": [
    "Q1"
   ]
  },
  {
   "cell_type": "markdown",
   "id": "0d708542",
   "metadata": {},
   "source": [
    "This code simulates the famous Monty Hall problem and evaluates the success rate of the \"switching doors strategy\" by running the experiment 100,000 times. Here's an explanation of the code:\n",
    "\n",
    "### Background of the Monty Hall Problem:\n",
    "- There are three doors. Behind one door is a prize (e.g., a car), while the other two doors hide \"goats.\"\n",
    "- You initially choose one door, and then the host, who knows where the prize is, will open a door you did not choose to reveal a \"goat.\"\n",
    "- After that, you can either stick with your original choice or switch to the remaining unopened door. The question is: Does switching doors increase your chances of winning?\n",
    "\n",
    "### Code Breakdown:\n",
    "1. **Initial Setup**:\n",
    "   - `all_door_options = (1, 2, 3)`: This tuple represents the three doors.\n",
    "   - `my_door_choice = 1`: Initially, the player always chooses door 1 (this is just a starting assumption; the \"switching strategy\" will be applied later).\n",
    "   - `i_won = 0`: This variable counts how many times the player wins the prize.\n",
    "   - `reps = 100000`: This sets the number of times the experiment will be repeated (100,000 simulations).\n",
    "\n",
    "2. **Loop through Simulations**:\n",
    "   - In each iteration, a random door is selected as the `secret_winning_door`, which hides the prize.\n",
    "   - The list `all_door_options_list` is created from `all_door_options`, and then the winning door is removed, so it can't be mistakenly shown as a \"goat\" door.\n",
    "   - If the player's initial choice isn't the winning door, it is also removed from the list, leaving only \"goat\" doors.\n",
    "\n",
    "3. **Reveal a \"Goat\" Door**:\n",
    "   - The host randomly selects a door from the remaining options (this will always be a \"goat\" door) and removes it, simulating the host revealing one of the losing doors.\n",
    "\n",
    "4. **Apply the \"Switching Strategy\"**:\n",
    "   - If the player's initial choice was not the winning door, the winning door is added back to the list of options.\n",
    "   - Then the player switches to the remaining door, i.e., `all_door_options_list[0]` (this is the door they didn't choose initially).\n",
    "\n",
    "5. **Check for a Win**:\n",
    "   - If the player's new choice (after switching) matches the `secret_winning_door`, the win counter `i_won` is incremented.\n",
    "\n",
    "6. **Result**:\n",
    "   - At the end of the simulation, `i_won/reps` calculates the win probability using the switching strategy.\n",
    "\n",
    "### Summary:\n",
    "- The code demonstrates that the switching strategy increases the chance of winning. Theoretically, switching gives a 2/3 probability of winning, while sticking with the original choice gives a 1/3 probability."
   ]
  },
  {
   "cell_type": "markdown",
   "id": "82e43516",
   "metadata": {},
   "source": [
    "Q2"
   ]
  },
  {
   "cell_type": "markdown",
   "id": "2f09cbbf",
   "metadata": {},
   "source": [
    "# import numpy as np\n",
    "\n",
    "# Set the number of repetitions (simulations)\n",
    "reps = 100000\n",
    "# Count the number of wins when the player switches doors\n",
    "switch_wins = 0\n",
    "\n",
    "# Repeat the simulation 'reps' times\n",
    "for i in range(reps):\n",
    "    # Randomly select a door to hide the car (one of doors 1, 2, or 3)\n",
    "    winning_door = np.random.choice([1, 2, 3])\n",
    "    \n",
    "    # The player randomly selects a door\n",
    "    player_choice = np.random.choice([1, 2, 3])\n",
    "    \n",
    "    # The host reveals a \"goat\" door (not the player's choice or the winning door)\n",
    "    remaining_doors = [door for door in [1, 2, 3] if door != player_choice and door != winning_door]\n",
    "    revealed_goat_door = np.random.choice(remaining_doors)\n",
    "    \n",
    "    # The player switches to the remaining door\n",
    "    # This door is neither the player's original choice nor the revealed \"goat\" door\n",
    "    switched_choice = [door for door in [1, 2, 3] if door != player_choice and door != revealed_goat_door][0]\n",
    "    \n",
    "    # Check if switching wins the car\n",
    "    if switched_choice == winning_door:\n",
    "        switch_wins += 1\n",
    "\n",
    "# Calculate and print the probability of winning by switching\n",
    "print(switch_wins / reps)\n"
   ]
  },
  {
   "cell_type": "markdown",
   "id": "605b6e4f",
   "metadata": {},
   "source": [
    "#It removes unnecessary steps and logic.The purpose of the code is clearer, making it easier for beginners to understand the intent."
   ]
  },
  {
   "cell_type": "markdown",
   "id": "f12c7efb",
   "metadata": {},
   "source": [
    "Q3"
   ]
  },
  {
   "cell_type": "code",
   "execution_count": 3,
   "id": "0d0b12e0",
   "metadata": {},
   "outputs": [
    {
     "name": "stdout",
     "output_type": "stream",
     "text": [
      "Probability of winning by switching doors: 0.66467\n"
     ]
    }
   ],
   "source": [
    "import numpy as np\n",
    "\n",
    "# Number of simulations\n",
    "num_simulations = 100000\n",
    "\n",
    "# Counter for wins when switching doors\n",
    "wins_when_switching = 0\n",
    "\n",
    "# Run the simulation num_simulations times\n",
    "for _ in range(num_simulations):\n",
    "    # Randomly choose the door with the car (1, 2, or 3)\n",
    "    winning_door = np.random.choice([1, 2, 3])\n",
    "    \n",
    "    # Player's initial choice (randomly chosen door)\n",
    "    player_choice = np.random.choice([1, 2, 3])\n",
    "    \n",
    "    # Determine which door the host will reveal\n",
    "    # It cannot be the player's choice or the winning door\n",
    "    possible_reveal_doors = [door for door in [1, 2, 3] if door != player_choice and door != winning_door]\n",
    "    revealed_door = np.random.choice(possible_reveal_doors)\n",
    "    \n",
    "    # Determine the door that the player will switch to\n",
    "    # This is the remaining unopened door\n",
    "    switched_door = [door for door in [1, 2, 3] if door != player_choice and door != revealed_door][0]\n",
    "    \n",
    "    # Check if switching doors results in winning the car\n",
    "    if switched_door == winning_door:\n",
    "        wins_when_switching += 1\n",
    "\n",
    "# Calculate and print the probability of winning by switching doors\n",
    "print(f\"Probability of winning by switching doors: {wins_when_switching / num_simulations}\")\n"
   ]
  },
  {
   "cell_type": "markdown",
   "id": "097579dc",
   "metadata": {},
   "source": [
    "https://chatgpt.com/share/66e8e3b9-8ae4-8006-beb3-16f88d61649f\n",
    "Here’s a summary of our conversation:\n",
    "\n",
    "1. **Monty Hall Problem Simulation**:\n",
    "   - We discussed a Python simulation of the Monty Hall problem, where you initially choose one of three doors, and after one door with a goat is revealed, you have the option to switch doors.\n",
    "   - The goal is to determine if switching doors increases your chances of winning the car.\n",
    "\n",
    "2. **Original Code**:\n",
    "   - You were provided with a more complex version of the simulation code that involved detailed steps and logic for removing and adding doors.\n",
    "\n",
    "3. **Simplified Code**:\n",
    "   - You requested a simpler version of the code that is easier to understand. A simplified version was provided, focusing on core operations with more straightforward logic.\n",
    "\n",
    "4. **Final Simplified Code**:\n",
    "   - A final, preferred version of the simplified Monty Hall simulation code was shared, including comments explaining each line of the code. This version runs a large number of simulations to calculate the probability of winning by switching doors and is verified to work correctly.\n",
    "\n",
    "5. **Purpose of Code Comments**:\n",
    "   - Comments were added to explain the purpose of each line in the code, helping to clarify how the simulation is set up, executed, and how results are calculated.\n",
    "\n",
    "This summary captures the key points and steps of our discussion related to the Monty Hall problem simulation."
   ]
  },
  {
   "cell_type": "markdown",
   "id": "252cd385",
   "metadata": {},
   "source": [
    "Q4"
   ]
  },
  {
   "cell_type": "code",
   "execution_count": 4,
   "id": "ae942806",
   "metadata": {},
   "outputs": [
    {
     "data": {
      "image/jpeg": "[encoded data removed]",
      "text/html": [
       "\n",
       "        <iframe\n",
       "            width=\"550\"\n",
       "            height=\"300\"\n",
       "            src=\"https://www.youtube.com/embed/56mGTszb_iM\"\n",
       "            frameborder=\"0\"\n",
       "            allowfullscreen\n",
       "            \n",
       "        ></iframe>\n",
       "        "
      ],
      "text/plain": [
       "<IPython.lib.display.YouTubeVideo at 0x7f4fe27b8110>"
      ]
     },
     "execution_count": 4,
     "metadata": {},
     "output_type": "execute_result"
    }
   ],
   "source": [
    "# Markov Chains and Text Generation\n",
    "from IPython.display import YouTubeVideo\n",
    "YouTubeVideo('56mGTszb_iM', width = 550)"
   ]
  },
  {
   "cell_type": "markdown",
   "id": "b5278e85",
   "metadata": {},
   "source": [
    "https://chatgpt.com/share/66e8face-4e04-8006-97c2-5c4a15ea2922\n",
    "Your code creates a basic Markov chain model that tracks the frequency of each word and the words that follow it in a sequence. \n",
    "\n",
    "### Key Points:\n",
    "1. **`word_used`**: Tracks how many times each word appears.\n",
    "2. **`next_word`**: Tracks the possible next words for each word and their frequencies.\n",
    "\n",
    "### Suggested Improvements:\n",
    "- Use `defaultdict` from the `collections` module to simplify and optimize the counting logic.\n",
    "- Refactor the code into a reusable function to make it more structured.\n",
    "\n",
    "This enhances readability and makes your Markovian chatbot code more efficient."
   ]
  },
  {
   "cell_type": "markdown",
   "id": "f256c6ca",
   "metadata": {},
   "source": [
    "post HW"
   ]
  },
  {
   "cell_type": "markdown",
   "id": "e1aeca00",
   "metadata": {},
   "source": [
    "Q5"
   ]
  },
  {
   "cell_type": "markdown",
   "id": "4aa97a51",
   "metadata": {},
   "source": [
    "https://chatgpt.com/share/66e8face-4e04-8006-97c2-5c4a15ea2922\n",
    "Your updated Markovian chatbot code adds a character-specific layer to the model:\n",
    "\n",
    "### Key Features:\n",
    "1. **Character-Specific Data**:\n",
    "   - Uses a `Counter` to preprocess and count occurrences of characters from a dataset.\n",
    "   - Each character's dialogue is tracked separately.\n",
    "\n",
    "2. **Data Structures**:\n",
    "   - **`word_used2C`**: A nested dictionary tracking counts of bigrams (word pairs) for each character.\n",
    "   - **`next_word2C`**: A nested dictionary tracking the frequency of words following each bigram, specific to each character.\n",
    "\n",
    "3. **Processing Words**:\n",
    "   - Updates counts of word pairs and their following words, categorized by character.\n",
    "\n",
    "### Example:\n",
    "For characters like `Harry` and `Hermione`, the model tracks:\n",
    "- How often pairs of words occur in their dialogues.\n",
    "- What words typically follow these pairs in their speech.\n",
    "\n",
    "This approach allows for personalized dialogue generation based on character-specific patterns, enhancing the chatbot's contextual relevance."
   ]
  },
  {
   "cell_type": "markdown",
   "id": "4d46ebe6",
   "metadata": {},
   "source": [
    "https://chatgpt.com/share/66e90794-ea1c-8006-b196-a1d25901ceb6 \n",
    "Here's a summary of your Markovian ChatBot and its extension:\n",
    "\n",
    "### Original Markovian ChatBot\n",
    "\n",
    "1. **Purpose**: Creates a basic Markov model to predict the next word in a sequence based on previous words.\n",
    "2. **Components**:\n",
    "   - `word_used`: Dictionary that counts occurrences of each word.\n",
    "   - `next_word`: Dictionary that tracks how often each word follows another.\n",
    "\n",
    "### Extension (Markovian ChatBot Extension #2)\n",
    "\n",
    "1. **Purpose**: Enhances the original model to include character-specific word transitions and multi-word context.\n",
    "2. **Components**:\n",
    "   - **Character Frequency Count**:\n",
    "     - `characters`: Counts occurrences of each character from the `avatar.character` column in a formatted way.\n",
    "   - **Nested Dictionaries**:\n",
    "     - `word_used2C`: Tracks counts of word pairs for each character.\n",
    "     - `next_word2C`: Tracks counts of words that follow a pair of words for each character.\n",
    "   - **Data Processing**:\n",
    "     - Updates `word_used2C` with counts of word pairs.\n",
    "     - Updates `next_word2C` with counts of next words following each word pair.\n",
    "\n",
    "### Code Improvements\n",
    "\n",
    "1. **Use `defaultdict`**:\n",
    "   - Simplifies initialization and avoids manual key existence checks.\n",
    "2. **String Formatting**:\n",
    "   - Cleaner string formatting with f-strings.\n",
    "3. **Efficiency**:\n",
    "   - Reduces redundancy and manual code checks.\n",
    "\n",
    "Feel free to reach out if you need any more details or have further questions!"
   ]
  },
  {
   "cell_type": "markdown",
   "id": "ef082237",
   "metadata": {},
   "source": [
    "Q6"
   ]
  },
  {
   "cell_type": "markdown",
   "id": "e5548880",
   "metadata": {},
   "source": [
    "1\n",
    "Monte Hall Problem: The ChatBot provided a clear and concise explanation of the Monty Hall problem. It was able to simplify complex concepts and suggest ways to simulate the problem using code. This allowed me to understand the problem better and see how different approaches (like using loops for simulations) could illustrate the paradox.\n",
    "\n",
    "Markovian ChatBot Code: The ChatBot helped me by providing guidance on using Counter and defaultdict to handle data efficiently. It also offered advice on how to extend the Markovian ChatBot to use character and word pair counts. The responses were detailed and practical, making it easier to implement the code and understand the underlying concepts."
   ]
  },
  {
   "cell_type": "markdown",
   "id": "66849623",
   "metadata": {},
   "source": [
    "2\n",
    "Frustration Levels: For the Monty Hall problem, there was minimal frustration as the ChatBot’s responses were clear and addressed specific aspects of the problem. However, if the initial explanations were too complex, it could lead to confusion. For the Markovian ChatBot, there was a moment of frustration when dealing with intricate details, but overall, the ChatBot was helpful in clarifying how to manage and process data.\n",
    "\n",
    "Unhelpfulness: At times, the explanations could have been more targeted, especially if the questions were broad or if there were specific nuances in the code that needed more detailed attention. Nevertheless, most interactions were productive and led to a better understanding of the issues"
   ]
  },
  {
   "cell_type": "markdown",
   "id": "1c2de978",
   "metadata": {},
   "source": [
    "3\n",
    "Usefulness: Based on my experiences, ChatBots have proven to be valuable tools for understanding and troubleshooting code.\n",
    "\n",
    "Limitations: While ChatBots are useful, they might not always provide context-specific solutions or fully grasp the nuances of a problem. They are best used in conjunction with other resources, like documentation and peer discussions."
   ]
  },
  {
   "cell_type": "markdown",
   "id": "9732207e",
   "metadata": {},
   "source": [
    "Q7"
   ]
  },
  {
   "cell_type": "markdown",
   "id": "ee7c20b1",
   "metadata": {},
   "source": [
    "My perspective has changed. Now I think AI tools are very helpful in learning programming, statistics, and data science, especially in providing quick feedback and practical examples. However, they sometimes have limitations and are most effective when used in conjunction with other learning resources.\n"
   ]
  },
  {
   "cell_type": "markdown",
   "id": "ad3b9293",
   "metadata": {},
   "source": [
    "Q8"
   ]
  },
  {
   "cell_type": "markdown",
   "id": "a2fe842f",
   "metadata": {},
   "source": [
    "Here’s a summary of valuable skills for an aspiring engineer:\n",
    "\n",
    "1. **Technical Skills**:\n",
    "   - **Programming and Coding**: Proficiency in languages like Python or MATLAB.\n",
    "   - **Mathematics**: Strong foundation in calculus and linear algebra.\n",
    "   - **Engineering Software**: Familiarity with tools such as AutoCAD or SolidWorks.\n",
    "\n",
    "2. **Analytical and Problem-Solving Skills**:\n",
    "   - **Data Analysis**: Ability to analyze and interpret data.\n",
    "   - **Critical Thinking**: Logical approach to problem-solving.\n",
    "\n",
    "3. **Project Management**:\n",
    "   - **Planning and Organization**: Manage projects effectively.\n",
    "   - **Team Collaboration**: Work well with others and manage conflicts.\n",
    "\n",
    "4. **Communication Skills**:\n",
    "   - **Technical Communication**: Clearly convey technical information.\n",
    "   - **Documentation**: Write detailed reports and create manuals.\n",
    "\n",
    "5. **Industry-Specific Knowledge**:\n",
    "   - **Understanding Standards**: Know industry-specific regulations and standards.\n",
    "\n",
    "6. **Hands-On Experience**:\n",
    "   - **Practical Skills**: Gain experience through internships or projects.\n",
    "\n",
    "7. **Continuous Learning**:\n",
    "   - **Staying Updated**: Keep up with new technologies and trends.\n",
    "\n",
    "These skills will help you succeed in a career in engineering."
   ]
  },
  {
   "cell_type": "markdown",
   "id": "18778b63",
   "metadata": {},
   "source": [
    "As an engineer, I need to master programming and mathematics fundamentals, and be familiar with relevant engineering software. Strong data analysis and problem-solving skills are also required to effectively manage projects and teams."
   ]
  },
  {
   "cell_type": "markdown",
   "id": "b389431f",
   "metadata": {},
   "source": [
    "Q9"
   ]
  },
  {
   "cell_type": "code",
   "execution_count": null,
   "id": "a0c326e2",
   "metadata": {},
   "outputs": [],
   "source": [
    "Yes"
   ]
  }
 ],
 "metadata": {
  "kernelspec": {
   "display_name": "Python 3 (ipykernel)",
   "language": "python",
   "name": "python3"
  },
  "language_info": {
   "codemirror_mode": {
    "name": "ipython",
    "version": 3
   },
   "file_extension": ".py",
   "mimetype": "text/x-python",
   "name": "python",
   "nbconvert_exporter": "python",
   "pygments_lexer": "ipython3",
   "version": "3.11.6"
  }
 },
 "nbformat": 4,
 "nbformat_minor": 5
}
